{
 "cells": [
  {
   "cell_type": "code",
   "execution_count": 2,
   "id": "3cf363d2",
   "metadata": {},
   "outputs": [
    {
     "name": "stdout",
     "output_type": "stream",
     "text": [
      "Using matplotlib backend: MacOSX\n"
     ]
    }
   ],
   "source": [
    "import pandas as pd\n",
    "import yahooquery as query\n",
    "from matplotlib import pyplot as plt\n",
    "import seaborn as sns; sns.set()\n",
    "import datetime as dt\n",
    "import numpy as np\n",
    "%matplotlib"
   ]
  },
  {
   "cell_type": "raw",
   "id": "ad4f32c8",
   "metadata": {},
   "source": [
    "df = pd.read_csv('StockPrediction/data/Data_2021-07-08.csv')\n",
    "df = df.drop_duplicates(subset=['symbol', 'asOfDate'])\n",
    "df['asOfDate'] = pd.to_datetime(df['asOfDate'])\n",
    "df = df.set_index('asOfDate')"
   ]
  },
  {
   "cell_type": "raw",
   "id": "3871fdc6",
   "metadata": {},
   "source": [
    "# Tickers on the data set\n",
    "tickers = list(df.symbol.drop_duplicates())\n",
    "columns = list(df.columns)[:1:-1]"
   ]
  },
  {
   "cell_type": "raw",
   "id": "5d0e073f",
   "metadata": {},
   "source": [
    "# Check for null values in the dataset\n",
    "null_values = df.isnull().sum()\n",
    "df[columns] = df[columns[::-1]].fillna(0)"
   ]
  },
  {
   "cell_type": "raw",
   "id": "2d14ab19",
   "metadata": {},
   "source": [
    "# null values after fillna with zero\n",
    "null_values2 = df.isnull().sum()"
   ]
  },
  {
   "cell_type": "raw",
   "id": "bbe22cc9",
   "metadata": {},
   "source": [
    "def get_frame(dataset, ticker):\n",
    "  df = dataset\n",
    "  dataframe = df[df['symbol'] == ticker]\n",
    "\n",
    "  return dataframe.interpolate(method='linear')"
   ]
  },
  {
   "cell_type": "raw",
   "id": "c8d10ba4",
   "metadata": {},
   "source": [
    "def join_interpolated():\n",
    "  data = []\n",
    "  for ticker in tickers:\n",
    "    data.append(get_frame(df, ticker))\n",
    "  result = pd.concat(data)\n",
    "  return result.fillna(0)\n",
    "\n",
    "df = join_interpolated()"
   ]
  },
  {
   "cell_type": "markdown",
   "id": "81e9be58",
   "metadata": {},
   "source": [
    "###### Upsample Dataset Quarterly"
   ]
  },
  {
   "cell_type": "raw",
   "id": "3d24c456",
   "metadata": {},
   "source": [
    "def upsample_data(data, ticker):\n",
    "    data = data[data.symbol == ticker]\n",
    "    upsample = data.resample('Q', convention='end')\n",
    "    upsample = upsample.interpolate(method='polynomial', order=2)\n",
    "    upsample['symbol'] = ticker\n",
    "    upsample['Sector'] = (list(data.Sector.drop_duplicates()))[0]\n",
    "    return upsample"
   ]
  },
  {
   "cell_type": "raw",
   "id": "f55636ee",
   "metadata": {},
   "source": [
    "def upsampled():\n",
    "    count = 0\n",
    "    data = []\n",
    "\n",
    "    for ticker in tickers:\n",
    "        try:\n",
    "            dataset = upsample_data(df, ticker)\n",
    "            data.append(dataset)\n",
    "        except Exception as e:\n",
    "            print(f'{e} {ticker}')\n",
    "\n",
    "    return pd.DataFrame(pd.concat(data)).dropna()"
   ]
  },
  {
   "cell_type": "raw",
   "id": "cd594499",
   "metadata": {},
   "source": [
    "upsampled().to_csv('BD-PROJECT2M/data/Dataset.csv')"
   ]
  },
  {
   "cell_type": "markdown",
   "id": "03fc12d7",
   "metadata": {},
   "source": [
    "# Exploratory Data Analysis"
   ]
  },
  {
   "cell_type": "code",
   "execution_count": 350,
   "id": "efc3b8c2",
   "metadata": {},
   "outputs": [],
   "source": [
    "year_start = 2017\n",
    "year_end = 2020\n",
    "df = pd.read_csv('BD-PROJECT2M/data/Dataset.csv')\n",
    "df['asOfDate'] = pd.to_datetime(df['asOfDate'])\n",
    "df = df.set_index('asOfDate')\n",
    "tickers = list(df.symbol.drop_duplicates())"
   ]
  },
  {
   "cell_type": "code",
   "execution_count": 243,
   "id": "3e843efa",
   "metadata": {},
   "outputs": [],
   "source": [
    "def get_prices(ticker_name, start_date, end_date):\n",
    "  ticker = query.Ticker(ticker_name)\n",
    "  prices = ticker.history(interval='3mo', start=start_date, end=end_date)[['adjclose']]\n",
    "  prices = (prices.dropna()).reset_index(level=['symbol', 'date'])\n",
    "  prices['date'] = pd.to_datetime(prices['date'])\n",
    "  prices['date'] = prices['date'] - pd.Timedelta(days=1)\n",
    "  prices = prices.drop(columns=['symbol'])\n",
    "  prices = prices.rename(columns={'adjclose': ticker_name})\n",
    "  prices = prices.set_index(['date'])\n",
    "  return prices[1:]"
   ]
  },
  {
   "cell_type": "code",
   "execution_count": 274,
   "id": "583e5683",
   "metadata": {},
   "outputs": [],
   "source": [
    "def merge_dataframes(year_start, year_end):\n",
    "  start_date = dt.datetime(year_start, 1, 2)\n",
    "  end_date = dt.datetime(year_end, 12, 31)\n",
    "  \n",
    "  base = get_prices(tickers[0], start_date, end_date)\n",
    "  for ticker in tickers[1:]:\n",
    "    df = get_prices(ticker, start_date, end_date)\n",
    "    base = pd.concat([base, df], axis=1)\n",
    "    #time.sleep(10)\n",
    "  \n",
    "  return base\n",
    "\n",
    "prices = merge_dataframes(year_start, year_end)"
   ]
  },
  {
   "cell_type": "code",
   "execution_count": 299,
   "id": "d0afdcc6",
   "metadata": {},
   "outputs": [],
   "source": [
    "stp = (prices[6:].resample('Q', convention='end').asfreq())[:-2]"
   ]
  },
  {
   "cell_type": "code",
   "execution_count": 301,
   "id": "1459eeb4",
   "metadata": {},
   "outputs": [],
   "source": [
    "stp.to_csv('BD-PROJECT2M/data/Dataset_stp.csv')"
   ]
  },
  {
   "cell_type": "code",
   "execution_count": 346,
   "id": "90b77720",
   "metadata": {},
   "outputs": [],
   "source": [
    "def get_Y():\n",
    "    log_returns = np.log(stp).fillna(0)\n",
    "\n",
    "    data = []\n",
    "\n",
    "    for col in log_returns.columns:\n",
    "        lr = pd.DataFrame(log_returns[col])\n",
    "        lr['symbol'] = col\n",
    "        lr['log re'] = log_returns[col]\n",
    "        data.append(lr)\n",
    "\n",
    "    return ((pd.DataFrame(pd.concat(data)))[['symbol', 'log re']])\n",
    "\n",
    "y = get_Y().reset_index('date').rename(columns={'date': 'asOfDate'}).set_index('asOfDate')"
   ]
  },
  {
   "cell_type": "code",
   "execution_count": 355,
   "id": "e8aec254",
   "metadata": {},
   "outputs": [
    {
     "name": "stdout",
     "output_type": "stream",
     "text": [
      "X : (1455, 17) y : (1441, 2)\n"
     ]
    }
   ],
   "source": [
    "print(f'X : {df.shape} y : {y.shape}')"
   ]
  },
  {
   "cell_type": "code",
   "execution_count": 365,
   "id": "ee8a96c9",
   "metadata": {},
   "outputs": [],
   "source": [
    "def append_log(x_df,y_df , ticker):\n",
    "    \n",
    "    x_df = x_df[x_df['symbol'] == ticker]\n",
    "    y_df = y_df[y_df['symbol'] == ticker]\n",
    "    \n",
    "    df = pd.merge(x_df, y_df, left_index=True, right_index=True)\n",
    "    df['symbol_x'] = df.rename(columns={'symbol_x': 'symbol'}, inplace=True)\n",
    "    return df.drop(columns=['symbol_y', 'symbol_x'])"
   ]
  },
  {
   "cell_type": "code",
   "execution_count": 378,
   "id": "b4720d2a",
   "metadata": {},
   "outputs": [],
   "source": [
    "def dataset(x, y):\n",
    "    \n",
    "    data = []\n",
    "    for ticker in tickers:\n",
    "        data.append(append_log(x,y , ticker))\n",
    "    return pd.DataFrame(pd.concat(data))\n",
    "\n",
    "dataset(df, y).to_csv('BD-PROJECT2M/data/Dataset.csv', mode='w+' )"
   ]
  }
 ],
 "metadata": {
  "kernelspec": {
   "display_name": "Python 3",
   "language": "python",
   "name": "python3"
  },
  "language_info": {
   "codemirror_mode": {
    "name": "ipython",
    "version": 3
   },
   "file_extension": ".py",
   "mimetype": "text/x-python",
   "name": "python",
   "nbconvert_exporter": "python",
   "pygments_lexer": "ipython3",
   "version": "3.8.8"
  }
 },
 "nbformat": 4,
 "nbformat_minor": 5
}
